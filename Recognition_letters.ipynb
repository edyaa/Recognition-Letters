{
 "cells": [
  {
   "cell_type": "markdown",
   "metadata": {},
   "source": [
    "# Модель Перцептрона для распознавания латинских букв"
   ]
  },
  {
   "cell_type": "code",
   "execution_count": 7,
   "metadata": {},
   "outputs": [],
   "source": [
    "from tensorflow.keras import utils\n",
    "import numpy as np\n",
    "from tensorflow.keras.preprocessing import image\n",
    "import matplotlib.pyplot as plt\n",
    "import string\n",
    "import warnings\n",
    "warnings.filterwarnings('ignore')\n",
    "from IPython.display import Image\n",
    "import os\n",
    "import cv2\n",
    "%matplotlib inline"
   ]
  },
  {
   "cell_type": "code",
   "execution_count": 8,
   "metadata": {},
   "outputs": [],
   "source": [
    "x_train = []\n",
    "# Названия классов\n",
    "classes = list(string.ascii_uppercase)"
   ]
  },
  {
   "cell_type": "code",
   "execution_count": 9,
   "metadata": {},
   "outputs": [],
   "source": [
    "def transformation(path):\n",
    "    \"\"\"Метод возвращающий отредактированное изображение в виде вектора.\"\"\"\n",
    "    img = image.load_img(path, target_size=(32, 32), grayscale=True)\n",
    "    # Преобразуем картинку в массив\n",
    "    x = image.img_to_array(img)\n",
    "    # Меняем форму массива на плоский вектор\n",
    "    x = x.reshape(1024)\n",
    "    # Инвентируем изображение\n",
    "    x = 255 - x\n",
    "    # Нормализуем изображение\n",
    "    x /= 255\n",
    "    return (x)"
   ]
  },
  {
   "cell_type": "code",
   "execution_count": 10,
   "metadata": {},
   "outputs": [],
   "source": [
    "\"\"\"Загрузка и препроцессинг данных\"\"\"\n",
    "\n",
    "my_folder = os.listdir('letters_data/')\n",
    "X_train =[]\n",
    "y_train = []\n",
    "for folder in my_folder:\n",
    "    path = 'letters_data/{}'.format(folder)\n",
    "    files = os.listdir(path)\n",
    "    for file in files:\n",
    "        path = 'letters_data/{0}/{1}'.format(folder, file)\n",
    "        img = image.load_img(path, target_size=(32, 32), color_mode = \"grayscale\")\n",
    "        x = image.img_to_array(img)\n",
    "        x = x.reshape(1024)\n",
    "        x = 255 - x\n",
    "        x /= 255\n",
    "        X_train.append(x)\n",
    "        y_train.append(int(file[:-4]))"
   ]
  },
  {
   "cell_type": "code",
   "execution_count": 12,
   "metadata": {},
   "outputs": [],
   "source": [
    "X_train = np.array(X_train)\n",
    "y_train = np.array(y_train)\n",
    "y_train = y_train.reshape(270, 1)\n",
    "y_train = utils.to_categorical(y_train, 26)"
   ]
  },
  {
   "cell_type": "code",
   "execution_count": 17,
   "metadata": {},
   "outputs": [],
   "source": [
    "X_test = []\n",
    "for i in range(9):\n",
    "    \"\"\"Добавляем в массив (тестовые данные) 9 изображений\"\"\"\n",
    "    X_test.append(transformation('test_letters/{}.png'.format(i)))\n",
    "X_test = np.array(X_test)\n",
    "y_test = np.array([0, 1, 2, 4, 6, 9, 11, 13, 19, 20])"
   ]
  },
  {
   "cell_type": "code",
   "execution_count": 22,
   "metadata": {},
   "outputs": [],
   "source": [
    "class Perceptron:\n",
    "    \"\"\"Класс реализующий Перцептрон\"\"\"\n",
    "\n",
    "    def __init__(self, learning_rate=0.01, epochs=100):\n",
    "        \"\"\"\n",
    "        Конструктор\n",
    "\n",
    "        :param learning_rate: Скорость обучения\n",
    "        :param epochs:        Количество эпох\n",
    "        \"\"\"\n",
    "        self.lr = learning_rate\n",
    "        self.epochs = epochs\n",
    "        self.amount_input_neurons = 1024\n",
    "        self.amount_hidden_neurons = 512\n",
    "        self.amount_output_neurons = 26\n",
    "\n",
    "        self.weights_input_to_hidden = np.random.normal(0.0, pow(self.amount_input_neurons, -0.5),\n",
    "                                                        (self.amount_hidden_neurons, self.amount_input_neurons))\n",
    "        self.weights_hidden_to_output = np.random.normal(0.0, pow(self.amount_hidden_neurons, -0.5),\n",
    "                                                         (self.amount_output_neurons, self.amount_hidden_neurons))\n",
    "\n",
    "    def fit(self, X, y):\n",
    "        \"\"\"\n",
    "        Метод, реализующий обучение\n",
    "\n",
    "        :param X: Тренировочные данные\n",
    "        :param y: Ответы на тренировочные данные\n",
    "        \"\"\"\n",
    "\n",
    "        for j in range(self.epochs):\n",
    "\n",
    "            for idx, x_i in enumerate(X):\n",
    "                hidden_inputs = np.dot(self.weights_input_to_hidden, x_i)\n",
    "                hidden_outputs = self.activation_func(hidden_inputs)\n",
    "\n",
    "                final_inputs = np.dot(self.weights_hidden_to_output, hidden_outputs)\n",
    "                final_outputs = self.activation_func(final_inputs)\n",
    "\n",
    "                output_errors = y[idx] - final_outputs\n",
    "                hidden_errors = np.dot(self.weights_hidden_to_output.T, output_errors)\n",
    "\n",
    "                a = (output_errors * final_outputs * (1 - final_outputs)).reshape(26, 1)\n",
    "                b = (hidden_errors * hidden_outputs * (1 - hidden_outputs)).reshape(512, 1)\n",
    "\n",
    "                self.weights_hidden_to_output += self.lr * np.dot(a, np.transpose(hidden_outputs).reshape(1, 512))\n",
    "                self.weights_input_to_hidden += self.lr * np.dot(b, np.transpose(x_i).reshape(1, 1024))\n",
    "            print(f'Epoch number: {j + 1}')\n",
    "\n",
    "    def activation_func(self, x):\n",
    "        \"\"\"\n",
    "        Сигмоида\n",
    "        :param x: Значение\n",
    "        \"\"\"\n",
    "        return 1 / (1 + np.exp(-x))\n",
    "\n",
    "    def predict(self, X):\n",
    "        \"\"\"\n",
    "        Метод, реализующий прогноз\n",
    "\n",
    "        :param X: Вектор Значений\n",
    "        :return: Предсказанные Значения\n",
    "        \"\"\"\n",
    "        X = np.array(X, ndmin=2).T\n",
    "\n",
    "        hidden_inputs = np.dot(self.weights_input_to_hidden, X)\n",
    "        hidden_outputs = self.activation_func(hidden_inputs)\n",
    "\n",
    "        final_inputs = np.dot(self.weights_hidden_to_output, hidden_outputs)\n",
    "        y_predicted = self.activation_func(final_inputs)\n",
    "\n",
    "        return y_predicted\n",
    "\n",
    "    def accuracy(self):\n",
    "        \"\"\"\n",
    "        :return: Точность\n",
    "        \"\"\"\n",
    "        i = 0\n",
    "        for i in range(9):\n",
    "            if np.argmax(p.predict(X_test[i])) == y_test[i]:\n",
    "                i += 1\n",
    "        return i / 9 * 100"
   ]
  },
  {
   "cell_type": "code",
   "execution_count": 23,
   "metadata": {},
   "outputs": [
    {
     "name": "stdout",
     "output_type": "stream",
     "text": [
      "Epoch number: 1\n",
      "Epoch number: 2\n",
      "Epoch number: 3\n",
      "Epoch number: 4\n",
      "Epoch number: 5\n",
      "Epoch number: 6\n",
      "Epoch number: 7\n",
      "Epoch number: 8\n",
      "Epoch number: 9\n",
      "Epoch number: 10\n"
     ]
    }
   ],
   "source": [
    "\"\"\"\n",
    "Иницализируем объект класса Perceptron. \n",
    "Обучаем его.\n",
    "Получаем предсказанные значения\n",
    "Смотрим точность значений\n",
    "\n",
    "\"\"\"\n",
    "p = Perceptron(learning_rate=0.2, epochs=10)\n",
    "p.fit(X_train, y_train)"
   ]
  },
  {
   "cell_type": "code",
   "execution_count": 24,
   "metadata": {},
   "outputs": [
    {
     "name": "stdout",
     "output_type": "stream",
     "text": [
      "Perceptron classification accuracy: 100.0 %\n"
     ]
    }
   ],
   "source": [
    "print(\"Perceptron classification accuracy: {} %\".format(p.accuracy()))"
   ]
  },
  {
   "cell_type": "code",
   "execution_count": null,
   "metadata": {},
   "outputs": [],
   "source": []
  },
  {
   "cell_type": "markdown",
   "metadata": {},
   "source": [
    "# Пример работы нейронной сети"
   ]
  },
  {
   "cell_type": "code",
   "execution_count": 25,
   "metadata": {},
   "outputs": [
    {
     "data": {
      "image/png": "[encoded data removed]",
      "text/plain": [
       "<IPython.core.display.Image object>"
      ]
     },
     "execution_count": 25,
     "metadata": {
      "image/png": {
       "height": 150,
       "width": 150
      }
     },
     "output_type": "execute_result"
    }
   ],
   "source": [
    "img_path = 'test_letters/7.png'\n",
    "Image(img_path, width=150, height=150)"
   ]
  },
  {
   "cell_type": "code",
   "execution_count": 26,
   "metadata": {},
   "outputs": [],
   "source": [
    "test_image = transformation(img_path)"
   ]
  },
  {
   "cell_type": "code",
   "execution_count": 27,
   "metadata": {},
   "outputs": [
    {
     "name": "stdout",
     "output_type": "stream",
     "text": [
      "N\n"
     ]
    }
   ],
   "source": [
    "prediciton = p.predict(test_image)\n",
    "print(classes[np.argmax(prediciton)])"
   ]
  },
  {
   "cell_type": "code",
   "execution_count": null,
   "metadata": {},
   "outputs": [],
   "source": []
  },
  {
   "cell_type": "code",
   "execution_count": null,
   "metadata": {},
   "outputs": [],
   "source": []
  }
 ],
 "metadata": {
  "kernelspec": {
   "display_name": "Python 3",
   "language": "python",
   "name": "python3"
  },
  "language_info": {
   "codemirror_mode": {
    "name": "ipython",
    "version": 3
   },
   "file_extension": ".py",
   "mimetype": "text/x-python",
   "name": "python",
   "nbconvert_exporter": "python",
   "pygments_lexer": "ipython3",
   "version": "3.6.12"
  }
 },
 "nbformat": 4,
 "nbformat_minor": 4
}
